{
 "cells": [
  {
   "cell_type": "code",
   "execution_count": 4,
   "metadata": {},
   "outputs": [],
   "source": [
    "import requests\n",
    "import json\n",
    "\n",
    "url = \"https://api.caresoft.vn/merapgroup/api/v1/zns\"\n"
   ]
  },
  {
   "cell_type": "code",
   "execution_count": null,
   "metadata": {},
   "outputs": [],
   "source": [
    "payload = json.dumps({\n",
    "  \"zns\": {\n",
    "    \"phone\": \"0975764704\",\n",
    "    \"template_id\": \"7550\",\n",
    "    \"ticket_id\": \"\",\n",
    "    \"params\": {\n",
    "      \"customer_name\": \" NT Minh Hiền\",\n",
    "      \"product_name\": \"test04\",\n",
    "      \"ma_don_hang\": \"12345\",\n",
    "      \"thoi_gian\": \"2022-09-19 19:30:00\"\n",
    "    }\n",
    "  }\n",
    "})\n",
    "headers = {\n",
    "  'Authorization': 'Bearer KNGy1gB6tN7jvUo',\n",
    "  'Content-Type': 'application/json',\n",
    "  'Cookie': ''\n",
    "}\n",
    "\n",
    "\n",
    "response = requests.request(\"POST\", url, headers=headers, data=payload)\n",
    "\n",
    "print(response.text)"
   ]
  }
 ],
 "metadata": {
  "kernelspec": {
   "display_name": "Python 3.10.5 64-bit",
   "language": "python",
   "name": "python3"
  },
  "language_info": {
   "codemirror_mode": {
    "name": "ipython",
    "version": 3
   },
   "file_extension": ".py",
   "mimetype": "text/x-python",
   "name": "python",
   "nbconvert_exporter": "python",
   "pygments_lexer": "ipython3",
   "version": "3.10.5"
  },
  "orig_nbformat": 4,
  "vscode": {
   "interpreter": {
    "hash": "31671a60cee805c34c73116577b485118ff3a75c458d3004d49632c19702ac60"
   }
  }
 },
 "nbformat": 4,
 "nbformat_minor": 2
}
